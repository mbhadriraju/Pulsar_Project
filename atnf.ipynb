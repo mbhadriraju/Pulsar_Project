{
 "cells": [
  {
   "cell_type": "code",
   "execution_count": 11,
   "id": "5afc4a13",
   "metadata": {},
   "outputs": [
    {
     "name": "stdout",
     "output_type": "stream",
     "text": [
      "Filename: TEST_DATA/00037911v001/data/preprocessed/uwl_181107_024559_b4.zf32T\n",
      "No.    Name      Ver    Type      Cards   Dimensions   Format\n",
      "  0  PRIMARY       1 PrimaryHDU      64   ()      \n",
      "  1  HISTORY       1 BinTableHDU     71   6R x 28C   [24A, 256A, 8A, 8A, 1J, 1I, 1I, 1I, 1D, 1D, 1J, 1D, 1D, 1D, 1I, 1I, 1I, 1I, 1I, 32A, 32A, 32A, 256A, 32A, 32A, 1I, 32A, 1I]   \n",
      "  2  OBSDESCR      1 BinTableHDU     12   79R x 1C   [128A]   \n",
      "  3  PSRPARAM      1 BinTableHDU     12   10R x 1C   [128A]   \n",
      "  4  T2PREDICT     1 BinTableHDU     12   22R x 1C   [128A]   \n",
      "  5  SUBINT        1 BinTableHDU     88   1R x 20C   [1D, 1D, 1D, 1D, 1D, 1D, 1D, 1D, 1E, 1E, 1E, 1E, 1E, 1D, 1D, 32D, 32E, 128E, 128E, 131072I]   \n",
      "ColDefs(\n",
      "    name = 'INDEXVAL'; format = '1D'\n",
      "    name = 'TSUBINT'; format = '1D'; unit = 's'\n",
      "    name = 'OFFS_SUB'; format = '1D'; unit = 's'\n",
      "    name = 'LST_SUB'; format = '1D'; unit = 's'\n",
      "    name = 'RA_SUB'; format = '1D'; unit = 'deg'\n",
      "    name = 'DEC_SUB'; format = '1D'; unit = 'deg'\n",
      "    name = 'GLON_SUB'; format = '1D'; unit = 'deg'\n",
      "    name = 'GLAT_SUB'; format = '1D'; unit = 'deg'\n",
      "    name = 'FD_ANG'; format = '1E'; unit = 'deg'\n",
      "    name = 'POS_ANG'; format = '1E'; unit = 'deg'\n",
      "    name = 'PAR_ANG'; format = '1E'; unit = 'deg'\n",
      "    name = 'TEL_AZ'; format = '1E'; unit = 'deg'\n",
      "    name = 'TEL_ZEN'; format = '1E'; unit = 'deg'\n",
      "    name = 'AUX_DM'; format = '1D'; unit = 'CM-3'\n",
      "    name = 'AUX_RM'; format = '1D'; unit = 'RAD'\n",
      "    name = 'DAT_FREQ'; format = '32D'; unit = 'MHz'\n",
      "    name = 'DAT_WTS'; format = '32E'\n",
      "    name = 'DAT_OFFS'; format = '128E'\n",
      "    name = 'DAT_SCL'; format = '128E'\n",
      "    name = 'DATA'; format = '131072I'; unit = 'Jy'; dim = '(1024,32,4)'\n",
      ")\n"
     ]
    }
   ],
   "source": [
    "import numpy as np\n",
    "import matplotlib.pyplot as plt\n",
    "from astropy.io import fits\n",
    "\n",
    "hdul = fits.open('TEST_DATA/00037911v001/data/preprocessed/uwl_181107_024559_b4.zf32T')\n",
    "\n",
    "hdul.info()  \n",
    "\n",
    "subint_data = hdul['SUBINT'].data\n",
    "print(subint_data.columns)"
   ]
  }
 ],
 "metadata": {
  "kernelspec": {
   "display_name": "Python 3",
   "language": "python",
   "name": "python3"
  },
  "language_info": {
   "codemirror_mode": {
    "name": "ipython",
    "version": 3
   },
   "file_extension": ".py",
   "mimetype": "text/x-python",
   "name": "python",
   "nbconvert_exporter": "python",
   "pygments_lexer": "ipython3",
   "version": "3.13.2"
  }
 },
 "nbformat": 4,
 "nbformat_minor": 5
}
