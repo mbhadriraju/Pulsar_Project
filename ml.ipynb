{
 "cells": [
  {
   "cell_type": "code",
   "execution_count": 247,
   "id": "aaa1f3e5",
   "metadata": {},
   "outputs": [
    {
     "name": "stdout",
     "output_type": "stream",
     "text": [
      "(9647, 2, 32, 1024)\n"
     ]
    }
   ],
   "source": [
    "'''This is just a shell, need to configure more sophisticated nn'''\n",
    "import numpy as np\n",
    "import matplotlib.pyplot as plt\n",
    "import random as rd\n",
    "import torch.nn as nn\n",
    "import torch\n",
    "device = 'mps'\n",
    "\n",
    "data = np.load('sim_data.npy')\n",
    "zero_rows_mask = np.all(data == 0, axis=(1,2,3))\n",
    "data = data[~zero_rows_mask]\n",
    "print(data.shape)"
   ]
  },
  {
   "cell_type": "code",
   "execution_count": 248,
   "id": "aa7fd09c",
   "metadata": {},
   "outputs": [],
   "source": [
    "num_epochs = 50\n",
    "batch_size = 32\n",
    "learning_rate = 1e-3\n",
    "num_examples = len(data)"
   ]
  },
  {
   "cell_type": "code",
   "execution_count": 249,
   "id": "380b46b8",
   "metadata": {},
   "outputs": [
    {
     "name": "stdout",
     "output_type": "stream",
     "text": [
      "(9647, 32, 1024) (9647, 32, 1024)\n"
     ]
    }
   ],
   "source": [
    "X, Y = data[:, 0], data[:, 1]\n",
    "print(X.shape, Y.shape)\n",
    "X_train, Y_train, X_test, Y_test = X[:int(num_examples * 0.8)], Y[:int(num_examples * 0.8)], X[int(num_examples * 0.8):], Y[int(num_examples * 0.8):]"
   ]
  },
  {
   "cell_type": "code",
   "execution_count": 250,
   "id": "aa3627a4",
   "metadata": {},
   "outputs": [],
   "source": [
    "X_train = torch.tensor(X_train, dtype=torch.float32).to(device)\n",
    "Y_train = torch.tensor(Y_train, dtype=torch.float32).to(device)\n",
    "X_test = torch.tensor(X_test, dtype=torch.float32).to(device)\n",
    "Y_test = torch.tensor(Y_test, dtype=torch.float32).to(device)"
   ]
  },
  {
   "cell_type": "code",
   "execution_count": 251,
   "id": "bce88ae8",
   "metadata": {},
   "outputs": [],
   "source": [
    "class ResNetBlock(nn.Module):\n",
    "    def __init__(self, channels, kernel_size=3, padding=1):\n",
    "        super(ResNetBlock, self).__init__()\n",
    "        self.conv1 = nn.Conv1d(channels, channels, kernel_size=kernel_size, padding=padding)\n",
    "        self.bn1 = nn.BatchNorm1d(channels)\n",
    "        self.conv2 = nn.Conv1d(channels, channels, kernel_size=kernel_size, padding=padding)\n",
    "        self.bn2 = nn.BatchNorm1d(channels)\n",
    "        self.relu = nn.ReLU(inplace=True)\n",
    "\n",
    "    def forward(self, x):\n",
    "        residual = x\n",
    "        out = self.conv1(x)\n",
    "        out = self.bn1(out)\n",
    "        out = self.relu(out)\n",
    "        out = self.conv2(out)\n",
    "        out = self.bn2(out)\n",
    "        out += residual\n",
    "        out = self.relu(out)\n",
    "        return out"
   ]
  },
  {
   "cell_type": "code",
   "execution_count": 252,
   "id": "bae8226f",
   "metadata": {},
   "outputs": [],
   "source": [
    "class Net(nn.Module):\n",
    "    def __init__(self):\n",
    "        super(Net, self).__init__()\n",
    "        self.stack = nn.Sequential(\n",
    "            ResNetBlock(32),\n",
    "            ResNetBlock(32),\n",
    "            ResNetBlock(32),\n",
    "            nn.Conv1d(32, 32, kernel_size=3, padding=1),\n",
    "        )\n",
    "\n",
    "    def forward(self, x):\n",
    "        x = self.stack(x)\n",
    "        return x\n",
    "\n",
    "model = Net().to(device)\n",
    "\n",
    "loss = nn.MSELoss()\n",
    "optimizer = torch.optim.Adam(model.parameters(), lr=learning_rate)"
   ]
  },
  {
   "cell_type": "code",
   "execution_count": 253,
   "id": "4f05e153",
   "metadata": {},
   "outputs": [
    {
     "name": "stdout",
     "output_type": "stream",
     "text": [
      "Epoch 1, Loss: 0.05122952337262292\n",
      "Epoch 2, Loss: 0.005565949245371494\n",
      "Epoch 3, Loss: 0.004022245616358133\n",
      "Epoch 4, Loss: 0.0032534554308323665\n",
      "Epoch 5, Loss: 0.002763850733937937\n",
      "Epoch 6, Loss: 0.002437427326684131\n",
      "Epoch 7, Loss: 0.002201592640570702\n",
      "Epoch 8, Loss: 0.0020165857580487314\n",
      "Epoch 9, Loss: 0.001860730438586015\n",
      "Epoch 10, Loss: 0.0017304301770106948\n",
      "Epoch 11, Loss: 0.001617618050562385\n",
      "Epoch 12, Loss: 0.0015225104598538869\n",
      "Epoch 13, Loss: 0.001440088253428052\n",
      "Epoch 14, Loss: 0.0013694383928775046\n",
      "Epoch 15, Loss: 0.0013097201866961\n",
      "Epoch 16, Loss: 0.001257304062345916\n",
      "Epoch 17, Loss: 0.0012127675802177716\n",
      "Epoch 18, Loss: 0.001171504834626625\n",
      "Epoch 19, Loss: 0.0011342179696957435\n",
      "Epoch 20, Loss: 0.00110118713812358\n",
      "Epoch 21, Loss: 0.0010711898173644916\n",
      "Epoch 22, Loss: 0.0010443037310831768\n",
      "Epoch 23, Loss: 0.001018897047037401\n",
      "Epoch 24, Loss: 0.0009972281381565198\n",
      "Epoch 25, Loss: 0.0009744290851885794\n",
      "Epoch 26, Loss: 0.0009556459657464214\n",
      "Epoch 27, Loss: 0.0009367826955154711\n",
      "Epoch 28, Loss: 0.0009192198180776102\n",
      "Epoch 29, Loss: 0.0009025423642498537\n",
      "Epoch 30, Loss: 0.0008862571583123278\n",
      "Epoch 31, Loss: 0.000870819536557551\n",
      "Epoch 32, Loss: 0.000856497748700772\n",
      "Epoch 33, Loss: 0.0008425116685970974\n",
      "Epoch 34, Loss: 0.0008274949195584362\n",
      "Epoch 35, Loss: 0.0008144751312969209\n",
      "Epoch 36, Loss: 0.0008015760823549004\n",
      "Epoch 37, Loss: 0.0007894978853889378\n",
      "Epoch 38, Loss: 0.0007767520966379597\n",
      "Epoch 39, Loss: 0.0007644948331821722\n",
      "Epoch 40, Loss: 0.0007548999218069067\n",
      "Epoch 41, Loss: 0.0007445270739390555\n",
      "Epoch 42, Loss: 0.000735977716415972\n",
      "Epoch 43, Loss: 0.0007266498165378391\n",
      "Epoch 44, Loss: 0.0007178946204817672\n",
      "Epoch 45, Loss: 0.0007120050218008904\n",
      "Epoch 46, Loss: 0.0007060505937091833\n",
      "Epoch 47, Loss: 0.0006994451726848674\n",
      "Epoch 48, Loss: 0.0006935516737039476\n",
      "Epoch 49, Loss: 0.0006887947483393565\n",
      "Epoch 50, Loss: 0.0006834167029485849\n"
     ]
    }
   ],
   "source": [
    "for epoch in range(num_epochs):\n",
    "    model.train()\n",
    "    total_loss = 0\n",
    "    for i in range(0, len(X_train), batch_size):\n",
    "        batch_X = X_train[i:i+batch_size]\n",
    "        batch_Y = Y_train[i:i+batch_size]\n",
    "\n",
    "        optimizer.zero_grad()\n",
    "        outputs = model(batch_X)\n",
    "        l = loss(outputs, batch_Y)\n",
    "        l.backward()\n",
    "        optimizer.step()\n",
    "\n",
    "        total_loss += l.item() \n",
    "    print(f\"Epoch {epoch+1}, Loss: {total_loss / (len(X) // batch_size)}\")"
   ]
  },
  {
   "cell_type": "code",
   "execution_count": 282,
   "id": "062117bd",
   "metadata": {},
   "outputs": [
    {
     "name": "stderr",
     "output_type": "stream",
     "text": [
      "/var/folders/ky/8q3h2wmx15s9bt4sh3wjcqzm0000gn/T/ipykernel_7312/3399982262.py:4: UserWarning: To copy construct from a tensor, it is recommended to use sourceTensor.clone().detach() or sourceTensor.clone().detach().requires_grad_(True), rather than torch.tensor(sourceTensor).\n",
      "  example = model(torch.tensor(X_test[test_index:test_index + 1], dtype=torch.float32).to(device)).detach().cpu().numpy()\n"
     ]
    },
    {
     "data": {
      "text/plain": [
       "[<matplotlib.lines.Line2D at 0x123932e90>]"
      ]
     },
     "execution_count": 282,
     "metadata": {},
     "output_type": "execute_result"
    },
    {
     "data": {
      "image/png": "[encoded data removed]",
      "text/plain": [
       "<Figure size 640x480 with 1 Axes>"
      ]
     },
     "metadata": {},
     "output_type": "display_data"
    }
   ],
   "source": [
    "torch.save(model.state_dict(), 'wideband_denoise.pth')\n",
    "test_index = rd.randint(0, len(X_test) - 1)\n",
    "\n",
    "example = model(torch.tensor(X_test[test_index:test_index + 1], dtype=torch.float32).to(device)).detach().cpu().numpy()\n",
    "\n",
    "\n",
    "plt.plot(X_test[test_index, 16, :].cpu(), label='Input', color='green', alpha=0.6)\n",
    "plt.plot(Y_test[test_index, 16, :].cpu(), label='True', color='orange', alpha=0.6)\n",
    "plt.plot(example[0, 16, :], label='Predicted', color='blue', alpha=0.6)"
   ]
  }
 ],
 "metadata": {
  "kernelspec": {
   "display_name": "Python 3",
   "language": "python",
   "name": "python3"
  },
  "language_info": {
   "codemirror_mode": {
    "name": "ipython",
    "version": 3
   },
   "file_extension": ".py",
   "mimetype": "text/x-python",
   "name": "python",
   "nbconvert_exporter": "python",
   "pygments_lexer": "ipython3",
   "version": "3.13.2"
  }
 },
 "nbformat": 4,
 "nbformat_minor": 5
}
